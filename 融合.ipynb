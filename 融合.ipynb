{
 "cells": [
  {
   "cell_type": "code",
   "execution_count": 3,
   "metadata": {
    "ExecuteTime": {
     "end_time": "2020-05-12T05:47:19.311492Z",
     "start_time": "2020-05-12T05:47:19.307515Z"
    }
   },
   "outputs": [],
   "source": [
    "import pandas as pd\n",
    "xgb = pd.read_csv('xgb_7599.txt', sep=\"\\t\", header=None)\n",
    "lgb = pd.read_csv('lgb_76087.txt', sep=\"\\t\", header=None)\n",
    "xgb[1] = (xgb[1].values + lgb[1].values) / 2\n",
    "xgb.to_csv(\"xl_kk.txt\", sep=\"\\t\", header=None, index=None)"
   ]
  }
 ],
 "metadata": {
  "kernelspec": {
   "display_name": "Python 3",
   "language": "python",
   "name": "python3"
  },
  "language_info": {
   "codemirror_mode": {
    "name": "ipython",
    "version": 3
   },
   "file_extension": ".py",
   "mimetype": "text/x-python",
   "name": "python",
   "nbconvert_exporter": "python",
   "pygments_lexer": "ipython3",
   "version": "3.6.5"
  }
 },
 "nbformat": 4,
 "nbformat_minor": 2
}
