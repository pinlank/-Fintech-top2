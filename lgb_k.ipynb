{
 "cells": [
  {
   "cell_type": "code",
   "execution_count": 1,
   "metadata": {
    "ExecuteTime": {
     "end_time": "2020-05-12T05:51:35.515401Z",
     "start_time": "2020-05-12T05:51:34.112083Z"
    }
   },
   "outputs": [
    {
     "name": "stdout",
     "output_type": "stream",
     "text": [
      "lightgbm version : 2.2.3\n"
     ]
    }
   ],
   "source": [
    "import numpy as np \n",
    "import pandas as pd \n",
    "import gc\n",
    "import os\n",
    "from sklearn.metrics import classification_report\n",
    "from scipy import stats,sparse\n",
    "import time\n",
    "import os\n",
    "import itertools\n",
    "import math\n",
    "from tqdm import *\n",
    "from scipy.stats import entropy, pearsonr\n",
    "import xgboost as xgb\n",
    "import lightgbm as lgb\n",
    "import catboost as cbt\n",
    "print('lightgbm version :', lgb.__version__)\n",
    "from sklearn.model_selection import StratifiedKFold,KFold,train_test_split\n",
    "from sklearn.metrics import mean_squared_error\n",
    "from sklearn.metrics import f1_score,accuracy_score,roc_auc_score\n",
    "from sklearn.metrics import roc_auc_score,recall_score,accuracy_score,log_loss,precision_score\n",
    "import multiprocessing\n",
    "import matplotlib.pyplot as plt\n",
    "from collections import Counter\n",
    "from sklearn.preprocessing import LabelEncoder,StandardScaler,MinMaxScaler,OneHotEncoder\n",
    "from sklearn.preprocessing import label_binarize, LabelBinarizer\n",
    "import seaborn as sns\n",
    "from sklearn.linear_model import LogisticRegression\n",
    "from sklearn.feature_extraction.text import TfidfVectorizer,CountVectorizer\n",
    "from sklearn.decomposition import TruncatedSVD\n",
    "from scipy.stats import pearsonr,spearmanr,kendalltau,entropy\n",
    "import warnings\n",
    "warnings.filterwarnings('ignore')"
   ]
  },
  {
   "cell_type": "markdown",
   "metadata": {},
   "source": [
    "#### 获取数据~~~~"
   ]
  },
  {
   "cell_type": "code",
   "execution_count": 3,
   "metadata": {
    "ExecuteTime": {
     "end_time": "2020-05-12T05:37:08.149480Z",
     "start_time": "2020-05-12T05:37:08.141471Z"
    }
   },
   "outputs": [],
   "source": [
    "def get_data():\n",
    "    train_tag = pd.read_csv('../data/训练数据集_tag.csv')\n",
    "    train_trd = pd.read_csv('../data/训练数据集_trd.csv')\n",
    "    train_beh = pd.read_csv('../data/训练数据集_beh.csv')\n",
    "    del train_beh['page_tm']\n",
    "    train_beh.columns = ['id', 'flag', 'page_no', 'page_tm']\n",
    "    print('train table: tag id {}, trd id {}, beh id {}'.format(train_tag.id.nunique(), train_trd.id.nunique(), train_beh.id.nunique()))\n",
    "    print('all train id number: ', len(set(train_tag.id)|(set(train_trd.id)|set(train_beh.id))))\n",
    "    # print(len(set(train_tag.id)&(set(train_trd.id)|set(train_beh.id))))\n",
    "    \n",
    "    print(train_tag.shape, train_trd.shape, train_beh.shape)\n",
    "\n",
    "    test_tag = pd.read_csv('../data/评分数据集_tag_b.csv')\n",
    "    test_trd = pd.read_csv('../data/评分数据集_trd_b.csv')\n",
    "    test_beh = pd.read_csv('../data/评分数据集_beh_b.csv')\n",
    "    del test_beh['page_tm']\n",
    "    test_beh.columns = ['id', 'page_no', 'page_tm']\n",
    "    print('test table: tag id {}, trd id {}, beh id {}'.format(test_tag.id.nunique(), test_trd.id.nunique(), test_beh.id.nunique()))\n",
    "    # print(len(set(test_tag.id)&(set(test_trd.id)|set(test_beh.id))))\n",
    "    print('all test id number: ', len(set(test_tag.id)|(set(test_trd.id)|set(test_beh.id))))\n",
    "    print(test_tag.shape, test_trd.shape, test_beh.shape)\n",
    "    \n",
    "    tag = train_tag.append(test_tag, sort=False).reset_index(drop=True)\n",
    "    trd = train_trd.append(test_trd, sort=False).reset_index(drop=True)\n",
    "    beh = train_beh.append(test_beh, sort=False).reset_index(drop=True)\n",
    "    return tag, trd, beh"
   ]
  },
  {
   "cell_type": "code",
   "execution_count": 4,
   "metadata": {
    "ExecuteTime": {
     "end_time": "2020-05-12T05:37:12.011138Z",
     "start_time": "2020-05-12T05:37:08.151444Z"
    }
   },
   "outputs": [
    {
     "name": "stdout",
     "output_type": "stream",
     "text": [
      "train table: tag id 39923, trd id 31993, beh id 11913\n",
      "all train id number:  39923\n",
      "(39923, 43) (1367211, 8) (934282, 4)\n",
      "test table: tag id 4000, trd id 3190, beh id 1232\n",
      "all test id number:  4000\n",
      "(4000, 42) (142645, 7) (95669, 3)\n"
     ]
    }
   ],
   "source": [
    "tag, trd, beh = get_data()"
   ]
  },
  {
   "cell_type": "code",
   "execution_count": 5,
   "metadata": {
    "ExecuteTime": {
     "end_time": "2020-05-12T05:37:12.296557Z",
     "start_time": "2020-05-12T05:37:12.014131Z"
    }
   },
   "outputs": [],
   "source": [
    "for i in ['trd_id', 'beh_id']:\n",
    "    tag[i] = 0\n",
    "    if i == 'trd_id':\n",
    "        tag.loc[tag.id.isin(trd.id.unique()), i] = 1\n",
    "    else:\n",
    "        tag.loc[beh.id.isin(beh.id.unique()), i] = 1\n",
    "tag['sample'] = tag[['trd_id', 'beh_id','flag']].astype(str).sum(axis=1)"
   ]
  },
  {
   "cell_type": "markdown",
   "metadata": {},
   "source": [
    "#### **`tag`**"
   ]
  },
  {
   "cell_type": "code",
   "execution_count": 6,
   "metadata": {
    "ExecuteTime": {
     "end_time": "2020-05-12T05:37:12.306473Z",
     "start_time": "2020-05-12T05:37:12.299488Z"
    }
   },
   "outputs": [],
   "source": [
    "tag_num_cols = [i for i in tag.dtypes[tag.dtypes != object].index if i not in ['id','flag','trd_id', 'beh_id','sample']]\n",
    "tag_cate_cols = [i for i in tag.columns if i not in tag_num_cols+['id','flag', 'trd_id', 'beh_id','sample']]\n",
    "# ind_col = [i for i in tag.columns if 'ind' in i]\n",
    "# cd_col = [i for i in tag.columns if 'cd' in i]\n",
    "# for i in tag.columns:\n",
    "#     for j in ['\\\\N', '-1', -1, '~']:\n",
    "#         tag[i] = tag[i].replace(j, np.nan)"
   ]
  },
  {
   "cell_type": "code",
   "execution_count": 7,
   "metadata": {
    "ExecuteTime": {
     "end_time": "2020-05-12T05:37:12.788192Z",
     "start_time": "2020-05-12T05:37:12.308439Z"
    }
   },
   "outputs": [],
   "source": [
    "cate_to_num_col = []\n",
    "for col in tag_cate_cols:\n",
    "    try:\n",
    "        tag[col] = tag[col].replace('\\\\N', np.nan)\n",
    "        tag[col] = tag[col].astype('float')\n",
    "        # print(col)\n",
    "        cate_to_num_col.append(col)\n",
    "    except:\n",
    "        pass"
   ]
  },
  {
   "cell_type": "code",
   "execution_count": 8,
   "metadata": {
    "ExecuteTime": {
     "end_time": "2020-05-12T05:37:12.802121Z",
     "start_time": "2020-05-12T05:37:12.790177Z"
    }
   },
   "outputs": [],
   "source": [
    "#类别更改为labelencoder\n",
    "tag_cate_cols = [i for i in tag_cate_cols if i not in cate_to_num_col+['gdr_cd']]\n",
    "tag['gdr_cd'] = tag['gdr_cd'].map({'M':1,'F':0})\n",
    "# tag = pd.get_dummies(columns=tag_cate_cols,data=tag)\n",
    "# tag = tag.replace(-1,np.nan)\n",
    "# tag = tag.drop(columns=tag_cate_cols)"
   ]
  },
  {
   "cell_type": "code",
   "execution_count": 9,
   "metadata": {
    "ExecuteTime": {
     "end_time": "2020-05-12T05:37:12.815085Z",
     "start_time": "2020-05-12T05:37:12.805113Z"
    }
   },
   "outputs": [
    {
     "data": {
      "text/plain": [
       "'理财'"
      ]
     },
     "execution_count": 9,
     "metadata": {},
     "output_type": "execute_result"
    }
   ],
   "source": [
    "\"\"\"理财\"\"\"\n",
    "# l12_col = ['l12mon_buy_fin_mng_whl_tms', 'l12_mon_fnd_buy_whl_tms', 'l12_mon_gld_buy_whl_tms']\n",
    "# tag['l12mon_buy_sum'] = tag[l12_col].sum(axis=1)\n",
    "# for col in l12_col:\n",
    "#     tag[f'{col}_ratio'] = tag[col] / (tag['l12mon_buy_sum']+1)"
   ]
  },
  {
   "cell_type": "code",
   "execution_count": 10,
   "metadata": {
    "ExecuteTime": {
     "end_time": "2020-05-12T05:37:12.857971Z",
     "start_time": "2020-05-12T05:37:12.818078Z"
    }
   },
   "outputs": [],
   "source": [
    "cur_col = ['cur_debit_cnt', 'cur_credit_cnt', 'cur_debit_min_opn_dt_cnt',\n",
    "'cur_credit_min_opn_dt_cnt', 'cur_debit_crd_lvl','hld_crd_card_grd_cd']\n",
    "tag.loc[tag['cur_credit_min_opn_dt_cnt']==-1,'hld_crd_card_grd_cd'] = -1\n",
    "for col in [ 'cur_debit_min_opn_dt_cnt', 'cur_credit_min_opn_dt_cnt',]:\n",
    "    tag[col] = tag[col].replace(-1,0)\n",
    "tag['debit-credit'] = tag['cur_debit_min_opn_dt_cnt'] - tag['cur_credit_min_opn_dt_cnt']\n",
    "# tag['credit/debit'] = tag['cur_debit_cnt'] / (tag['cur_credit_cnt']+1)"
   ]
  },
  {
   "cell_type": "markdown",
   "metadata": {},
   "source": [
    "#### **trd**"
   ]
  },
  {
   "cell_type": "code",
   "execution_count": 11,
   "metadata": {
    "ExecuteTime": {
     "end_time": "2020-05-12T05:37:12.864952Z",
     "start_time": "2020-05-12T05:37:12.859966Z"
    }
   },
   "outputs": [],
   "source": [
    "def pivot_fe(data, value, ind, column, func, kk):\n",
    "    pivot = pd.pivot_table(data, values=[value], index=ind, columns=column,aggfunc=func)\n",
    "    pivot.columns = [value + f'_{i}_{j}_{kk}' for i in pivot.columns.levels[0] for j in pivot.columns.levels[2]]\n",
    "    pivot = pivot.reset_index().fillna(0)\n",
    "    return pivot"
   ]
  },
  {
   "cell_type": "code",
   "execution_count": 12,
   "metadata": {
    "ExecuteTime": {
     "end_time": "2020-05-12T05:37:20.880282Z",
     "start_time": "2020-05-12T05:37:12.866953Z"
    }
   },
   "outputs": [
    {
     "name": "stdout",
     "output_type": "stream",
     "text": [
      "(35183, 15)\n",
      "(35183, 15)\n",
      "(35183, 22)\n",
      "(35183, 22)\n",
      "(35183, 22)\n",
      "(35183, 22)\n"
     ]
    }
   ],
   "source": [
    "for col in ['Dat_Flg1_Cd', 'Dat_Flg3_Cd', 'Trx_Cod1_Cd']:\n",
    "    temp = pivot_fe(trd, 'cny_trx_amt', 'id', col, ['max', 'min', 'std', 'mean', 'median', 'sum','count'], col)\n",
    "    print(temp.shape)\n",
    "    temp.columns = ['id'] + temp.columns.tolist()[1:]\n",
    "    print(temp.shape)\n",
    "    tag = tag.merge(temp, on = 'id', how='left')"
   ]
  },
  {
   "cell_type": "code",
   "execution_count": 13,
   "metadata": {
    "ExecuteTime": {
     "end_time": "2020-05-12T05:37:20.944680Z",
     "start_time": "2020-05-12T05:37:20.882278Z"
    }
   },
   "outputs": [],
   "source": [
    "# for i in ['Dat_Flg1_Cd', 'Dat_Flg3_Cd', 'Trx_Cod1_Cd', 'Trx_Cod2_Cd']:\n",
    "#     trd[f'{i}_count'] = trd.groupby(i)['id'].transform('count')\n",
    "trd['Trx_Cod2_Cd_count'] = trd['Trx_Cod2_Cd'].map(trd['Trx_Cod2_Cd'].value_counts())"
   ]
  },
  {
   "cell_type": "code",
   "execution_count": 14,
   "metadata": {
    "ExecuteTime": {
     "end_time": "2020-05-12T05:37:23.542850Z",
     "start_time": "2020-05-12T05:37:20.947673Z"
    }
   },
   "outputs": [],
   "source": [
    "aggs = {}\n",
    "for i in ['Dat_Flg1_Cd', 'Dat_Flg3_Cd', 'Trx_Cod1_Cd', 'Trx_Cod2_Cd']:\n",
    "    # aggs[f'{i}_count'] = ['min']\n",
    "    if i == 'Dat_Flg1_Cd':\n",
    "        aggs[i] = ['nunique', 'count']\n",
    "    else:\n",
    "        aggs[i] = ['nunique']\n",
    "aggs['Trx_Cod2_Cd_count'] = ['max', 'min', 'std', 'mean']\n",
    "aggs['cny_trx_amt'] = ['sum', 'mean']\n",
    "agg_df=trd.groupby('id').agg(aggs)\n",
    "agg_df.columns = ['trd'+'_'+'_'.join(col).strip() for col in agg_df.columns.values]\n",
    "agg_df=agg_df.reset_index()\n",
    "tag = tag.merge(agg_df, on = 'id', how='left')"
   ]
  },
  {
   "cell_type": "code",
   "execution_count": 15,
   "metadata": {
    "ExecuteTime": {
     "end_time": "2020-05-12T05:37:23.562649Z",
     "start_time": "2020-05-12T05:37:23.544846Z"
    }
   },
   "outputs": [],
   "source": [
    "for i in ['cny_trx_amt_count_B_Dat_Flg1_Cd', 'cny_trx_amt_count_C_Dat_Flg1_Cd',\n",
    " 'cny_trx_amt_count_A_Dat_Flg3_Cd', 'cny_trx_amt_count_B_Dat_Flg3_Cd',\n",
    " 'cny_trx_amt_count_C_Dat_Flg3_Cd', 'cny_trx_amt_count_1_Trx_Cod1_Cd',\n",
    " 'cny_trx_amt_count_2_Trx_Cod1_Cd', 'cny_trx_amt_count_3_Trx_Cod1_Cd']:\n",
    "    tag[f'{i}_ratio'] = tag[i] / tag['trd_Dat_Flg1_Cd_count']"
   ]
  },
  {
   "cell_type": "code",
   "execution_count": 16,
   "metadata": {
    "ExecuteTime": {
     "end_time": "2020-05-12T05:37:26.361263Z",
     "start_time": "2020-05-12T05:37:23.565636Z"
    }
   },
   "outputs": [
    {
     "data": {
      "text/plain": [
       "22"
      ]
     },
     "execution_count": 16,
     "metadata": {},
     "output_type": "execute_result"
    }
   ],
   "source": [
    "\"\"\"tfidf\"\"\"\n",
    "feat = trd[['id','Trx_Cod2_Cd']]\n",
    "feat['Trx_Cod2_Cd'] = feat['Trx_Cod2_Cd'].astype(str)\n",
    "feat = feat.groupby(['id'])['Trx_Cod2_Cd'].agg(lambda x: ' '.join(x)).reset_index(name='Trx_Cod2_Cd_list')\n",
    "tf_idf = TfidfVectorizer(max_features=30)\n",
    "tf_vec = tf_idf.fit_transform(feat['Trx_Cod2_Cd_list'].values.tolist())\n",
    "# svd = TruncatedSVD(n_components=16, n_iter=10, random_state=2019)\n",
    "# svd_vec = svd.fit_transform(tf_vec)\n",
    "tf_df = pd.DataFrame(tf_vec.toarray())\n",
    "tf_df['id'] = feat['id'].values\n",
    "tf_df.columns = ['Trx_Cod2_Cd_svd_vec_'+str(i+1) for i in range(30)]+ ['id']\n",
    "tag = tag.merge(tf_df,on='id', how='left')\n",
    "del tf_df,feat;gc.collect()"
   ]
  },
  {
   "cell_type": "code",
   "execution_count": 17,
   "metadata": {
    "ExecuteTime": {
     "end_time": "2020-05-12T05:37:28.003109Z",
     "start_time": "2020-05-12T05:37:26.363246Z"
    }
   },
   "outputs": [],
   "source": [
    "\"\"\"时间统计\"\"\"\n",
    "trd['trx_tm'] = pd.to_datetime(trd['trx_tm'])\n",
    "trd['trx_tm_mon'] = trd['trx_tm'].dt.month\n",
    "trd['trx_tm_day'] = trd['trx_tm'].dt.day\n",
    "trd['trx_tm_dayofyear'] = trd['trx_tm'].dt.dayofyear\n",
    "trd['trx_tm_dayofyear'] = trd['trx_tm_dayofyear'] - trd['trx_tm_dayofyear'].min()\n",
    "trd['trx_tm_hour'] = trd['trx_tm'].dt.hour\n",
    "trd['trx_tm_weekday'] = trd['trx_tm'].dt.weekday\n",
    "trd['trx_tm_wy'] = trd['trx_tm'].dt.weekofyear\n",
    "trd['trx_tm_wy'] = trd['trx_tm_wy'] - trd['trx_tm_wy'].min()\n",
    "trd['trx_tm_是否周末'] = trd['trx_tm_weekday'].apply(lambda x:1 if x >= 5 else 0)"
   ]
  },
  {
   "cell_type": "code",
   "execution_count": 18,
   "metadata": {
    "ExecuteTime": {
     "end_time": "2020-05-12T05:37:30.662914Z",
     "start_time": "2020-05-12T05:37:28.005020Z"
    }
   },
   "outputs": [],
   "source": [
    "aggs = {\n",
    "    'trx_tm_dayofyear':['nunique', 'max', 'min', np.ptp],\n",
    "}\n",
    "agg_df=trd.groupby('id').agg(aggs)\n",
    "agg_df.columns = ['trd'+'_'+'_'.join(col).strip() for col in agg_df.columns.values]\n",
    "agg_df=agg_df.reset_index()  \n",
    "tag = tag.merge(agg_df, on = 'id', how='left') "
   ]
  },
  {
   "cell_type": "code",
   "execution_count": 19,
   "metadata": {
    "ExecuteTime": {
     "end_time": "2020-05-12T05:37:31.468756Z",
     "start_time": "2020-05-12T05:37:30.664909Z"
    }
   },
   "outputs": [],
   "source": [
    "#按月统计 sum\n",
    "temp = pivot_fe(trd, 'cny_trx_amt', 'id', 'trx_tm_mon', ['sum'], 'month')\n",
    "temp['5-6'] = temp['cny_trx_amt_sum_5_month'] - temp['cny_trx_amt_sum_6_month']\n",
    "tag = tag.merge(temp,on='id', how='left')\n",
    "#按工作日统计 mean\n",
    "temp = pivot_fe(trd, 'cny_trx_amt', 'id', 'trx_tm_是否周末', ['mean'], '是否周末')\n",
    "tag = tag.merge(temp,on='id', how='left')\n",
    "# #按1-7天统计\n",
    "# temp = pivot_fe(trd, 'cny_trx_amt', 'id', 'trx_tm_weekday', ['mean'], 'weekday')\n",
    "# tag = tag.merge(temp,on='id', how='left')\n",
    "# #按小时天统计\n",
    "# temp = pivot_fe(trd, 'cny_trx_amt', 'id', 'trx_tm_hour', ['mean'], 'hour')\n",
    "# tag = tag.merge(temp, on = 'id', how='left')"
   ]
  },
  {
   "cell_type": "code",
   "execution_count": 20,
   "metadata": {
    "ExecuteTime": {
     "end_time": "2020-05-12T05:38:14.240121Z",
     "start_time": "2020-05-12T05:37:31.470750Z"
    }
   },
   "outputs": [],
   "source": [
    "# 按周统计 'sum','mean'\n",
    "temp = pivot_fe(trd, 'cny_trx_amt', 'id', 'trx_tm_wy', ['sum','mean'], 'wy')\n",
    "tag = tag.merge(temp,on='id', how='left')\n",
    "\n",
    "temp = trd.groupby(['id', 'trx_tm_wy'])['cny_trx_amt'].sum().reset_index(name = 'sum')\n",
    "tag['trx_tm_wy_spearmanr_wy'] = tag['id'].map(temp.groupby('id').apply(lambda x:spearmanr(x['trx_tm_wy'], x['sum'])[0]))\n",
    "\n",
    "temp = trd.groupby(['id', 'trx_tm_wy'])['cny_trx_amt'].count().reset_index(name = 'count')\n",
    "tag['trx_tm_wy_spearmanr_count'] = tag['id'].map(temp.groupby('id').apply(lambda x:spearmanr(x['trx_tm_wy'], x['count'])[0]))"
   ]
  },
  {
   "cell_type": "code",
   "execution_count": 21,
   "metadata": {
    "ExecuteTime": {
     "end_time": "2020-05-12T05:38:14.752957Z",
     "start_time": "2020-05-12T05:38:14.242029Z"
    }
   },
   "outputs": [],
   "source": [
    "temp = pivot_fe(trd, 'cny_trx_amt', 'id', 'trx_tm_wy', ['count'], 'wy')\n",
    "temp.drop(columns=['cny_trx_amt_count_2_wy',\n",
    "       'cny_trx_amt_count_3_wy', 'cny_trx_amt_count_4_wy',\n",
    "       'cny_trx_amt_count_5_wy', 'cny_trx_amt_count_6_wy',\n",
    "       'cny_trx_amt_count_7_wy'], inplace=True)\n",
    "tag = tag.merge(temp,on='id', how='left')\n",
    "for i in temp.columns[1:]:\n",
    "    tag[i] = tag[i] / tag['trd_Dat_Flg1_Cd_count']"
   ]
  },
  {
   "cell_type": "code",
   "execution_count": 22,
   "metadata": {
    "ExecuteTime": {
     "end_time": "2020-05-12T05:38:19.341170Z",
     "start_time": "2020-05-12T05:38:14.755941Z"
    }
   },
   "outputs": [],
   "source": [
    "temp = pd.pivot_table(data=trd,index='id', columns='trx_tm_mon', values='trx_tm_dayofyear',aggfunc='nunique').reset_index()\n",
    "temp.columns = ['id'] + [f'trx_tm_mon_{i}' for i in [5,6]]\n",
    "temp['trx_tm_mon_mean'] = (temp['trx_tm_mon_5'] + temp['trx_tm_mon_6'])/2\n",
    "temp['trx_tm_mon_ratio'] = (temp['trx_tm_mon_6'] / temp['trx_tm_mon_5'])\n",
    "temp.columns = ['id'] + ['trd_nunique_'+i for i in temp.columns[1:]]\n",
    "tag = tag.merge(temp, on = 'id', how = 'left')\n",
    "\n",
    "temp = pd.pivot_table(data=trd,index='id', columns='trx_tm_mon', values='trx_tm_dayofyear',aggfunc='count').reset_index()\n",
    "temp.columns = ['id'] + [f'ctrx_tm_mon_{i}' for i in [5,6]]\n",
    "temp['ctrx_tm_mon_mean'] = (temp['ctrx_tm_mon_5'] + temp['ctrx_tm_mon_6'])/2\n",
    "temp['ctrx_tm_mon_ratio'] = (temp['ctrx_tm_mon_6'] / temp['ctrx_tm_mon_5'])\n",
    "temp.columns = ['id'] + ['trd_count_'+i for i in temp.columns[1:]]\n",
    "tag = tag.merge(temp, on = 'id', how = 'left')\n",
    "\n",
    "temp = pd.pivot_table(data=trd,index='id', columns='trx_tm_mon', values='Trx_Cod2_Cd',aggfunc='nunique').reset_index()\n",
    "temp.columns = ['id'] + [f'trx_tm_mon_Trx_Cod2_Cd_{i}' for i in [5,6]]\n",
    "temp['trx_tm_mon_Trx_Cod2_Cd_mean'] = (temp['trx_tm_mon_Trx_Cod2_Cd_5'] + temp['trx_tm_mon_Trx_Cod2_Cd_6'])/2\n",
    "temp['trx_tm_mon_Trx_Cod2_Cd_ratio'] = (temp['trx_tm_mon_Trx_Cod2_Cd_6'] / temp['trx_tm_mon_Trx_Cod2_Cd_5'])\n",
    "temp.columns = ['id'] + ['trd_Trx_Cod2_Cd_'+i for i in temp.columns[1:]]\n",
    "tag = tag.merge(temp, on = 'id', how = 'left')"
   ]
  },
  {
   "cell_type": "code",
   "execution_count": 23,
   "metadata": {
    "ExecuteTime": {
     "end_time": "2020-05-12T05:38:19.791513Z",
     "start_time": "2020-05-12T05:38:19.343166Z"
    }
   },
   "outputs": [],
   "source": [
    "trd_b = trd[trd['Dat_Flg1_Cd'] == 'B'].copy()\n",
    "trd_c = trd[trd['Dat_Flg1_Cd'] == 'C'].copy()"
   ]
  },
  {
   "cell_type": "code",
   "execution_count": 24,
   "metadata": {
    "ExecuteTime": {
     "end_time": "2020-05-12T05:38:22.039599Z",
     "start_time": "2020-05-12T05:38:19.793478Z"
    },
    "scrolled": true
   },
   "outputs": [],
   "source": [
    "temp = pd.pivot_table(data=trd_b,index='id', columns='trx_tm_mon', values='trx_tm_dayofyear',aggfunc='nunique').reset_index()\n",
    "temp.columns = ['id'] + [f'btrx_tm_mon_{i}' for i in [5,6]]\n",
    "temp['btrx_tm_mon_mean'] = (temp['btrx_tm_mon_5'] + temp['btrx_tm_mon_6'])/2\n",
    "temp['btrx_tm_mon_ratio'] = (temp['btrx_tm_mon_6'] / temp['btrx_tm_mon_5'])\n",
    "temp.columns = ['id'] + ['trd_b_nunique_'+i for i in temp.columns[1:]]\n",
    "tag = tag.merge(temp, on = 'id', how = 'left')\n",
    "\n",
    "temp = pd.pivot_table(data=trd_b,index='id', columns='trx_tm_mon', values='trx_tm_dayofyear',aggfunc='count').reset_index()\n",
    "temp.columns = ['id'] + [f'bctrx_tm_mon_{i}' for i in [5,6]]\n",
    "temp['bctrx_tm_mon_mean'] = (temp['bctrx_tm_mon_5'] + temp['bctrx_tm_mon_6'])/2\n",
    "temp['bctrx_tm_mon_ratio'] = (temp['bctrx_tm_mon_6'] / temp['bctrx_tm_mon_5'])\n",
    "temp.columns = ['id'] + ['trd_b_count_'+i for i in temp.columns[1:]]\n",
    "tag = tag.merge(temp, on = 'id', how = 'left')\n",
    "\n",
    "temp = pd.pivot_table(data=trd_b,index='id', columns='trx_tm_mon', values='cny_trx_amt',aggfunc='sum').reset_index()\n",
    "temp.columns = ['id'] + [f'trx_tm_mon_{i}' for i in [5,6]]\n",
    "temp['trx_tm_mon_mean'] = (temp['trx_tm_mon_5'] + temp['trx_tm_mon_6'])/2\n",
    "temp['trx_tm_mon_ratio'] = (temp['trx_tm_mon_6'] / temp['trx_tm_mon_5'])\n",
    "temp.columns = ['id'] + ['trd_b_amt_'+i for i in temp.columns[1:]]\n",
    "tag = tag.merge(temp, on = 'id', how = 'left')"
   ]
  },
  {
   "cell_type": "code",
   "execution_count": 25,
   "metadata": {
    "ExecuteTime": {
     "end_time": "2020-05-12T05:38:23.143907Z",
     "start_time": "2020-05-12T05:38:22.042584Z"
    }
   },
   "outputs": [],
   "source": [
    "temp = pd.pivot_table(data=trd_c,index='id', columns='trx_tm_mon', values='trx_tm_dayofyear',aggfunc='nunique').reset_index()\n",
    "temp.columns = ['id'] + [f'cntrx_tm_mon_{i}' for i in [5,6]]\n",
    "temp['cntrx_tm_mon_mean'] = (temp['cntrx_tm_mon_5'] + temp['cntrx_tm_mon_6'])/2\n",
    "temp['cntrx_tm_mon_ratio'] = (temp['cntrx_tm_mon_6'] / temp['cntrx_tm_mon_5'])\n",
    "temp.columns = ['id'] + ['trd_c_nunique_'+i for i in temp.columns[1:]]\n",
    "tag = tag.merge(temp, on = 'id', how = 'left')\n",
    "\n",
    "temp = pd.pivot_table(data=trd_c,index='id', columns='trx_tm_mon', values='trx_tm_dayofyear',aggfunc='count').reset_index()\n",
    "temp.columns = ['id'] + [f'bctrx_tm_mon_{i}' for i in [5,6]]\n",
    "temp['bctrx_tm_mon_mean'] = (temp['bctrx_tm_mon_5'] + temp['bctrx_tm_mon_6'])/2\n",
    "temp['bctrx_tm_mon_ratio'] = (temp['bctrx_tm_mon_6'] / temp['bctrx_tm_mon_5'])\n",
    "temp.columns = ['id'] + ['trd_c_count_'+i for i in temp.columns[1:]]\n",
    "tag = tag.merge(temp, on = 'id', how = 'left')\n",
    "\n",
    "temp = pd.pivot_table(data=trd_c,index='id', columns='trx_tm_mon', values='cny_trx_amt',aggfunc='sum').reset_index()\n",
    "temp.columns = ['id'] + [f'trx_tm_mon_{i}' for i in [5,6]]\n",
    "temp['trx_tm_mon_mean'] = (temp['trx_tm_mon_5'] + temp['trx_tm_mon_6'])/2\n",
    "temp['trx_tm_mon_ratio'] = (temp['trx_tm_mon_6'] / temp['trx_tm_mon_5'])\n",
    "temp.columns = ['id'] + ['trd_c_amt_'+i for i in temp.columns[1:]]\n",
    "tag = tag.merge(temp, on = 'id', how = 'left')"
   ]
  },
  {
   "cell_type": "code",
   "execution_count": 26,
   "metadata": {
    "ExecuteTime": {
     "end_time": "2020-05-12T05:38:23.151888Z",
     "start_time": "2020-05-12T05:38:23.145904Z"
    }
   },
   "outputs": [],
   "source": [
    "tag['xiaofeixingwei'] = tag['trd_b_amt_trx_tm_mon_mean'] / tag['trd_c_amt_trx_tm_mon_mean']"
   ]
  },
  {
   "cell_type": "code",
   "execution_count": 27,
   "metadata": {
    "ExecuteTime": {
     "end_time": "2020-05-12T05:38:23.161861Z",
     "start_time": "2020-05-12T05:38:23.155883Z"
    }
   },
   "outputs": [],
   "source": [
    "def get_cons_day(x):\n",
    "    cc = np.sort(np.unique(x))\n",
    "    if len(cc)==1:\n",
    "        return 1\n",
    "    bb = list(np.diff(cc))\n",
    "    dd = []\n",
    "    kz = []\n",
    "    for k, v in itertools.groupby(bb):\n",
    "        kz.append(k)\n",
    "        if not kz.count(1):\n",
    "            return 1\n",
    "        elif k==1:\n",
    "            dd.append(len(list(v)))\n",
    "    return [i+1 for i in dd]#np.max(dd)+1"
   ]
  },
  {
   "cell_type": "code",
   "execution_count": 28,
   "metadata": {
    "ExecuteTime": {
     "end_time": "2020-05-12T05:38:36.239416Z",
     "start_time": "2020-05-12T05:38:23.164854Z"
    }
   },
   "outputs": [],
   "source": [
    "temp = trd_b.groupby('id')['trx_tm_dayofyear'].apply(get_cons_day).reset_index(name='cons')\n",
    "temp['cons_b_max'] = temp['cons'].apply(lambda x:np.max(x))\n",
    "temp['cons_b_std'] = temp['cons'].apply(lambda x:np.std(x))\n",
    "temp['cons_b_mean'] = temp['cons'].apply(lambda x:np.mean(x))\n",
    "del temp['cons']\n",
    "tag = tag.merge(temp, on = 'id', how='left')\n",
    "\n",
    "temp = trd_c.groupby('id')['trx_tm_dayofyear'].apply(get_cons_day).reset_index(name='cons')\n",
    "temp['cons_c_max'] = temp['cons'].apply(lambda x:np.max(x))\n",
    "temp['cons_c_std'] = temp['cons'].apply(lambda x:np.std(x))\n",
    "temp['cons_c_mean'] = temp['cons'].apply(lambda x:np.mean(x))\n",
    "del temp['cons']\n",
    "tag = tag.merge(temp, on = 'id', how='left')"
   ]
  },
  {
   "cell_type": "code",
   "execution_count": 29,
   "metadata": {
    "ExecuteTime": {
     "end_time": "2020-05-12T05:38:38.767797Z",
     "start_time": "2020-05-12T05:38:36.241410Z"
    }
   },
   "outputs": [],
   "source": [
    "aggs = {\n",
    "    'trx_tm_dayofyear':['nunique', 'max', 'min', np.ptp],\n",
    "}\n",
    "agg_df=trd_b.groupby('id').agg(aggs)\n",
    "agg_df.columns = ['trd_b'+'_'+'_'.join(col).strip() for col in agg_df.columns.values]\n",
    "agg_df=agg_df.reset_index()  \n",
    "tag = tag.merge(agg_df, on = 'id', how='left') "
   ]
  },
  {
   "cell_type": "code",
   "execution_count": 30,
   "metadata": {
    "ExecuteTime": {
     "end_time": "2020-05-12T05:38:39.640028Z",
     "start_time": "2020-05-12T05:38:38.769793Z"
    },
    "scrolled": true
   },
   "outputs": [],
   "source": [
    "temp = trd_b.groupby(['id','trx_tm_dayofyear'])['cny_trx_amt'].sum().reset_index(name='bmean')\n",
    "temp = temp.groupby('id')['bmean'].agg(['max', 'min', 'std', 'mean']).reset_index()\n",
    "temp.columns = ['id'] + ['trd_b_day_amt_' + i for i in ['max', 'min', 'std', 'mean']]\n",
    "tag = tag.merge(temp, on = 'id', how = 'left')\n",
    "\n",
    "temp = trd_c.groupby(['id','trx_tm_dayofyear'])['cny_trx_amt'].sum().reset_index(name='bmean')\n",
    "temp = temp.groupby('id')['bmean'].agg(['max', 'min', 'std', 'mean']).reset_index()\n",
    "temp.columns = ['id'] + ['trd_c_day_amt_' + i for i in ['max', 'min', 'std', 'mean']]\n",
    "tag = tag.merge(temp, on = 'id', how = 'left')"
   ]
  },
  {
   "cell_type": "code",
   "execution_count": 31,
   "metadata": {
    "ExecuteTime": {
     "end_time": "2020-05-12T05:38:40.710332Z",
     "start_time": "2020-05-12T05:38:39.641998Z"
    },
    "scrolled": true
   },
   "outputs": [],
   "source": [
    "for i in ['mrg_situ_cd', 'edu_deg_cd', 'acdm_deg_cd', 'deg_cd']:\n",
    "    for sta in ['sum']:\n",
    "        tag[f'{i}_cny_trx_amt_sum_B_Dat_Flg1_Cd_{sta}'] = tag.groupby(i)['cny_trx_amt_sum_B_Dat_Flg1_Cd'].transform(sta)\n",
    "        tag[f'{i}_cny_trx_amt_sum_C_Dat_Flg1_Cd_{sta}'] = tag.groupby(i)['cny_trx_amt_sum_C_Dat_Flg1_Cd'].transform(sta)\n",
    "#     tag[f'{i}_cny_trx_amt_sum_C_Dat_Flg1_Cd_ptp'] = tag[f'{i}_cny_trx_amt_sum_C_Dat_Flg1_Cd_max'] - tag[f'{i}_cny_trx_amt_sum_C_Dat_Flg1_Cd_min']\n",
    "#     tag[f'{i}_cny_trx_amt_sum_B_Dat_Flg1_Cd_ptp'] = tag[f'{i}_cny_trx_amt_sum_B_Dat_Flg1_Cd_max'] - tag[f'{i}_cny_trx_amt_sum_B_Dat_Flg1_Cd_min']\n",
    "#     del tag[f'{i}_cny_trx_amt_sum_B_Dat_Flg1_Cd_max'],tag[f'{i}_cny_trx_amt_sum_B_Dat_Flg1_Cd_min']\n",
    "#     del tag[f'{i}_cny_trx_amt_sum_C_Dat_Flg1_Cd_max'],tag[f'{i}_cny_trx_amt_sum_C_Dat_Flg1_Cd_min']\n",
    "# tag.drop(columns=['mrg_situ_cd', 'edu_deg_cd', 'acdm_deg_cd', 'deg_cd'], inplace=True)\n",
    "tag = pd.get_dummies(columns=tag_cate_cols,data=tag)"
   ]
  },
  {
   "cell_type": "markdown",
   "metadata": {},
   "source": [
    "#### **`beh`**"
   ]
  },
  {
   "cell_type": "code",
   "execution_count": 34,
   "metadata": {
    "ExecuteTime": {
     "end_time": "2020-05-12T05:38:41.745092Z",
     "start_time": "2020-05-12T05:38:40.734768Z"
    }
   },
   "outputs": [],
   "source": [
    "aggs = {\n",
    "    'page_no':['nunique', 'count'],\n",
    "    # 'trx_tm_是否周末': ['mean'],\n",
    "#     'page_tm_hour': ['nunique'],\n",
    "#     # 'page_tm_weekday': ['nunique'],\n",
    "#     # 'trx_tm_day':['nunique'],\n",
    "#     'page_tm_wy':['nunique'],\n",
    "#     'page_tm_dayofyear':['nunique', 'max', 'min', np.ptp],\n",
    "}\n",
    "agg_df=beh.groupby('id').agg(aggs)\n",
    "agg_df.columns = ['beh'+'_'+'_'.join(col).strip() for col in agg_df.columns.values]\n",
    "agg_df=agg_df.reset_index()  \n",
    "tag = tag.merge(agg_df, on = 'id', how='left') "
   ]
  },
  {
   "cell_type": "code",
   "execution_count": 35,
   "metadata": {
    "ExecuteTime": {
     "end_time": "2020-05-12T05:38:41.753071Z",
     "start_time": "2020-05-12T05:38:41.747088Z"
    }
   },
   "outputs": [],
   "source": [
    "for i in ['beh_page_no_nunique', 'beh_page_no_count']:\n",
    "    tag[i] = tag[i].fillna(0)"
   ]
  },
  {
   "cell_type": "code",
   "execution_count": 36,
   "metadata": {
    "ExecuteTime": {
     "end_time": "2020-05-12T05:38:42.879070Z",
     "start_time": "2020-05-12T05:38:41.755068Z"
    }
   },
   "outputs": [
    {
     "data": {
      "text/plain": [
       "2"
      ]
     },
     "execution_count": 36,
     "metadata": {},
     "output_type": "execute_result"
    }
   ],
   "source": [
    "\"\"\"tfidf\"\"\"\n",
    "feat = beh[['id','page_no']]\n",
    "feat['page_no'] = feat['page_no'].astype(str)\n",
    "feat = feat.groupby(['id'])['page_no'].agg(lambda x: ' '.join(x)).reset_index(name='page_no_list')\n",
    "tf_idf = TfidfVectorizer(max_features=8)\n",
    "tf_vec = tf_idf.fit_transform(feat['page_no_list'].values.tolist())\n",
    "# svd = TruncatedSVD(n_components=8, n_iter=10, random_state=2019)\n",
    "# svd_vec = svd.fit_transform(tf_vec)\n",
    "tf_df = pd.DataFrame(tf_vec.toarray())\n",
    "tf_df['id'] = feat['id'].values\n",
    "tf_df.columns = ['page_no_list_svd_vec_'+str(i+1) for i in range(8)]+ ['id']\n",
    "tag = tag.merge(tf_df,on='id', how='left')\n",
    "del tf_df,feat;gc.collect()"
   ]
  },
  {
   "cell_type": "code",
   "execution_count": 37,
   "metadata": {
    "ExecuteTime": {
     "end_time": "2020-05-12T05:38:42.892163Z",
     "start_time": "2020-05-12T05:38:42.881066Z"
    }
   },
   "outputs": [],
   "source": [
    "for i in ['page_no_list_svd_vec_1',\n",
    "       'page_no_list_svd_vec_2', 'page_no_list_svd_vec_3',\n",
    "       'page_no_list_svd_vec_4', 'page_no_list_svd_vec_5',\n",
    "       'page_no_list_svd_vec_6', 'page_no_list_svd_vec_7',\n",
    "       'page_no_list_svd_vec_8']:\n",
    "    tag[i] = tag[i].fillna(0)\n",
    "#     del tag[i]"
   ]
  },
  {
   "cell_type": "code",
   "execution_count": 38,
   "metadata": {
    "ExecuteTime": {
     "end_time": "2020-05-12T05:38:43.071616Z",
     "start_time": "2020-05-12T05:38:42.894033Z"
    }
   },
   "outputs": [],
   "source": [
    "tag.loc[tag['dnl_mbl_bnk_ind'].isin(beh.id.unique()), 'dnl_mbl_bnk_ind'] = 1\n",
    "tag['dnl_mbl_bnk_ind'].fillna(0,inplace=True)"
   ]
  },
  {
   "cell_type": "code",
   "execution_count": 39,
   "metadata": {
    "ExecuteTime": {
     "end_time": "2020-05-12T05:38:43.206278Z",
     "start_time": "2020-05-12T05:38:43.074548Z"
    }
   },
   "outputs": [],
   "source": [
    "train = tag[~tag['flag'].isnull()].reset_index(drop=True)\n",
    "test = tag[tag['flag'].isnull()].reset_index(drop=True)"
   ]
  },
  {
   "cell_type": "code",
   "execution_count": 40,
   "metadata": {
    "ExecuteTime": {
     "end_time": "2020-05-12T05:38:43.327873Z",
     "start_time": "2020-05-12T05:38:43.208224Z"
    }
   },
   "outputs": [
    {
     "name": "stdout",
     "output_type": "stream",
     "text": [
      "(39923, 278) (4000, 278)\n"
     ]
    }
   ],
   "source": [
    "del_col=['beh_id','deg_cd_cny_trx_amt_sum_C_Dat_Flg1_Cd_sum',\n",
    " 'cny_trx_amt_mean_1_b',\n",
    " 'cny_trx_amt_median_1_b',\n",
    " 'cny_trx_amt_mean_C_c',\n",
    " 'cny_trx_amt_median_C_c',\n",
    " 'cny_trx_amt_mean_2_c',\n",
    " 'cny_trx_amt_median_2_c',\n",
    "]\n",
    "drop_0 = []\n",
    "col=[i for i in train.columns if i not in ['id', 'flag','sample']+del_col+drop_0]\n",
    "# col = tag_num_cols+cate_to_num_col\n",
    "X_train=train[col].copy()#.fillna(0)\n",
    "y_train=train['flag'].copy().astype(int)\n",
    "X_test=test[col].copy()#.fillna(0)\n",
    "print(X_train.shape,X_test.shape)"
   ]
  },
  {
   "cell_type": "markdown",
   "metadata": {},
   "source": [
    "### lgb"
   ]
  },
  {
   "cell_type": "code",
   "execution_count": 3,
   "metadata": {
    "ExecuteTime": {
     "end_time": "2020-05-12T06:17:01.023114Z",
     "start_time": "2020-05-12T06:17:01.019125Z"
    }
   },
   "outputs": [],
   "source": [
    "K =5\n",
    "seed = 1111\n",
    "skf = StratifiedKFold(n_splits=K, shuffle=True, random_state=seed)"
   ]
  },
  {
   "cell_type": "code",
   "execution_count": 2,
   "metadata": {
    "ExecuteTime": {
     "end_time": "2020-05-12T06:16:56.558577Z",
     "start_time": "2020-05-12T06:16:56.553593Z"
    },
    "scrolled": false
   },
   "outputs": [],
   "source": [
    "lgb_params = {\n",
    "                        'boosting_type': 'gbdt',\n",
    "                        'objective': 'binary',\n",
    "                        'metric': 'auc',\n",
    "                        'num_leaves': 31,\n",
    "                        'subsample': 0.86,\n",
    "                        'max_depth':-1,\n",
    "                        'colsample_bytree': 0.6,\n",
    "                        'learning_rate': 0.03,\n",
    "                        'bagging_freq':3,\n",
    "                        'lambda_l2':2,\n",
    "                        'seed': 1234,\n",
    "                        'nthread': 8,\n",
    "                        # 'is_unblance':True,\n",
    "                        # 'gpu_device_id':0,\n",
    "                        # 'gpu_platform_id':0,\n",
    "                        # 'device':'gpu',\n",
    "             }\n",
    "lgb_models=[]\n",
    "oof = np.zeros(len(X_train))\n",
    "predictions = np.zeros(len(X_test))\n",
    "auc_score = []\n",
    "\n",
    "for i, (train_index, val_index) in enumerate(skf.split(X_train,y_train)):\n",
    "    print(\"fold {}\".format(i))\n",
    "    X_tr, X_val = X_train.iloc[train_index].values, X_train.iloc[val_index].values\n",
    "    y_tr, y_val = y_train.iloc[train_index].values, y_train.iloc[val_index].values\n",
    "    \n",
    "    lgb_train = lgb.Dataset(X_tr,y_tr)\n",
    "    lgb_val = lgb.Dataset(X_val,y_val)\n",
    "    num_round = 3000\n",
    "    clf = lgb.train(lgb_params, lgb_train, num_round, valid_sets = [lgb_train, lgb_val],\n",
    "                    verbose_eval=100, early_stopping_rounds = 100,\n",
    "                #    categorical_feature=cate_feat\n",
    "                   )#50\n",
    "    lgb_models.append(clf)\n",
    "    oof[val_index] = clf.predict(X_val, num_iteration=clf.best_iteration)\n",
    "    pred = clf.predict(X_val, num_iteration=clf.best_iteration)\n",
    "    auc_ss = roc_auc_score(y_val, pred)\n",
    "    auc_score.append(auc_ss)\n",
    "    print('best iteration = ',clf.best_iteration)\n",
    "    print('auc = ', auc_ss)\n",
    "    predictions += clf.predict(X_test.values, num_iteration=clf.best_iteration) / skf.n_splits\n",
    "print('auc score : ', np.mean(auc_score), np.std(auc_score))"
   ]
  },
  {
   "cell_type": "code",
   "execution_count": 56,
   "metadata": {
    "ExecuteTime": {
     "end_time": "2020-05-12T05:44:19.937668Z",
     "start_time": "2020-05-12T05:44:19.917211Z"
    }
   },
   "outputs": [],
   "source": [
    "sub = test[['id']].copy()\n",
    "sub['违约预测概率'] = predictions\n",
    "sub.to_csv(\"lgb_76087.txt\", sep=\"\\t\", header=None, index=None)"
   ]
  }
 ],
 "metadata": {
  "kernelspec": {
   "display_name": "Python 3",
   "language": "python",
   "name": "python3"
  },
  "language_info": {
   "codemirror_mode": {
    "name": "ipython",
    "version": 3
   },
   "file_extension": ".py",
   "mimetype": "text/x-python",
   "name": "python",
   "nbconvert_exporter": "python",
   "pygments_lexer": "ipython3",
   "version": "3.6.5"
  }
 },
 "nbformat": 4,
 "nbformat_minor": 1
}
